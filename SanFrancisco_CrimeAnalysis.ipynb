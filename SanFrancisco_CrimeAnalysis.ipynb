{
 "cells": [
  {
   "cell_type": "code",
   "execution_count": 1,
   "metadata": {},
   "outputs": [],
   "source": [
    "# importing libraries\n",
    "import pandas as pd\n",
    "import matplotlib.pyplot as plt\n",
    "import seaborn as sns"
   ]
  },
  {
   "cell_type": "code",
   "execution_count": 2,
   "metadata": {},
   "outputs": [
    {
     "data": {
      "text/html": [
       "<div>\n",
       "<style scoped>\n",
       "    .dataframe tbody tr th:only-of-type {\n",
       "        vertical-align: middle;\n",
       "    }\n",
       "\n",
       "    .dataframe tbody tr th {\n",
       "        vertical-align: top;\n",
       "    }\n",
       "\n",
       "    .dataframe thead th {\n",
       "        text-align: right;\n",
       "    }\n",
       "</style>\n",
       "<table border=\"1\" class=\"dataframe\">\n",
       "  <thead>\n",
       "    <tr style=\"text-align: right;\">\n",
       "      <th></th>\n",
       "      <th>IncidntNum</th>\n",
       "      <th>Category</th>\n",
       "      <th>Descript</th>\n",
       "      <th>DayOfWeek</th>\n",
       "      <th>Date</th>\n",
       "      <th>Time</th>\n",
       "      <th>PdDistrict</th>\n",
       "      <th>Resolution</th>\n",
       "      <th>Address</th>\n",
       "      <th>X</th>\n",
       "      <th>Y</th>\n",
       "      <th>Location</th>\n",
       "      <th>PdId</th>\n",
       "    </tr>\n",
       "  </thead>\n",
       "  <tbody>\n",
       "    <tr>\n",
       "      <th>0</th>\n",
       "      <td>120058272</td>\n",
       "      <td>WEAPON LAWS</td>\n",
       "      <td>POSS OF PROHIBITED WEAPON</td>\n",
       "      <td>Friday</td>\n",
       "      <td>01/29/2016 12:00:00 AM</td>\n",
       "      <td>11:00</td>\n",
       "      <td>SOUTHERN</td>\n",
       "      <td>ARREST, BOOKED</td>\n",
       "      <td>800 Block of BRYANT ST</td>\n",
       "      <td>-122.403405</td>\n",
       "      <td>37.775421</td>\n",
       "      <td>(37.775420706711, -122.403404791479)</td>\n",
       "      <td>12005827212120</td>\n",
       "    </tr>\n",
       "    <tr>\n",
       "      <th>1</th>\n",
       "      <td>120058272</td>\n",
       "      <td>WEAPON LAWS</td>\n",
       "      <td>FIREARM, LOADED, IN VEHICLE, POSSESSION OR USE</td>\n",
       "      <td>Friday</td>\n",
       "      <td>01/29/2016 12:00:00 AM</td>\n",
       "      <td>11:00</td>\n",
       "      <td>SOUTHERN</td>\n",
       "      <td>ARREST, BOOKED</td>\n",
       "      <td>800 Block of BRYANT ST</td>\n",
       "      <td>-122.403405</td>\n",
       "      <td>37.775421</td>\n",
       "      <td>(37.775420706711, -122.403404791479)</td>\n",
       "      <td>12005827212168</td>\n",
       "    </tr>\n",
       "    <tr>\n",
       "      <th>2</th>\n",
       "      <td>141059263</td>\n",
       "      <td>WARRANTS</td>\n",
       "      <td>WARRANT ARREST</td>\n",
       "      <td>Monday</td>\n",
       "      <td>04/25/2016 12:00:00 AM</td>\n",
       "      <td>14:59</td>\n",
       "      <td>BAYVIEW</td>\n",
       "      <td>ARREST, BOOKED</td>\n",
       "      <td>KEITH ST / SHAFTER AV</td>\n",
       "      <td>-122.388856</td>\n",
       "      <td>37.729981</td>\n",
       "      <td>(37.7299809672996, -122.388856204292)</td>\n",
       "      <td>14105926363010</td>\n",
       "    </tr>\n",
       "    <tr>\n",
       "      <th>3</th>\n",
       "      <td>160013662</td>\n",
       "      <td>NON-CRIMINAL</td>\n",
       "      <td>LOST PROPERTY</td>\n",
       "      <td>Tuesday</td>\n",
       "      <td>01/05/2016 12:00:00 AM</td>\n",
       "      <td>23:50</td>\n",
       "      <td>TENDERLOIN</td>\n",
       "      <td>NONE</td>\n",
       "      <td>JONES ST / OFARRELL ST</td>\n",
       "      <td>-122.412971</td>\n",
       "      <td>37.785788</td>\n",
       "      <td>(37.7857883766888, -122.412970537591)</td>\n",
       "      <td>16001366271000</td>\n",
       "    </tr>\n",
       "    <tr>\n",
       "      <th>4</th>\n",
       "      <td>160002740</td>\n",
       "      <td>NON-CRIMINAL</td>\n",
       "      <td>LOST PROPERTY</td>\n",
       "      <td>Friday</td>\n",
       "      <td>01/01/2016 12:00:00 AM</td>\n",
       "      <td>00:30</td>\n",
       "      <td>MISSION</td>\n",
       "      <td>NONE</td>\n",
       "      <td>16TH ST / MISSION ST</td>\n",
       "      <td>-122.419672</td>\n",
       "      <td>37.765050</td>\n",
       "      <td>(37.7650501214668, -122.419671780296)</td>\n",
       "      <td>16000274071000</td>\n",
       "    </tr>\n",
       "    <tr>\n",
       "      <th>5</th>\n",
       "      <td>160002869</td>\n",
       "      <td>ASSAULT</td>\n",
       "      <td>BATTERY</td>\n",
       "      <td>Friday</td>\n",
       "      <td>01/01/2016 12:00:00 AM</td>\n",
       "      <td>21:35</td>\n",
       "      <td>NORTHERN</td>\n",
       "      <td>NONE</td>\n",
       "      <td>1700 Block of BUSH ST</td>\n",
       "      <td>-122.426077</td>\n",
       "      <td>37.788019</td>\n",
       "      <td>(37.788018555829, -122.426077177375)</td>\n",
       "      <td>16000286904134</td>\n",
       "    </tr>\n",
       "    <tr>\n",
       "      <th>6</th>\n",
       "      <td>160003130</td>\n",
       "      <td>OTHER OFFENSES</td>\n",
       "      <td>PAROLE VIOLATION</td>\n",
       "      <td>Saturday</td>\n",
       "      <td>01/02/2016 12:00:00 AM</td>\n",
       "      <td>00:04</td>\n",
       "      <td>SOUTHERN</td>\n",
       "      <td>ARREST, BOOKED</td>\n",
       "      <td>MARY ST / HOWARD ST</td>\n",
       "      <td>-122.405721</td>\n",
       "      <td>37.780879</td>\n",
       "      <td>(37.7808789360214, -122.405721454567)</td>\n",
       "      <td>16000313026150</td>\n",
       "    </tr>\n",
       "    <tr>\n",
       "      <th>7</th>\n",
       "      <td>160003259</td>\n",
       "      <td>NON-CRIMINAL</td>\n",
       "      <td>FIRE REPORT</td>\n",
       "      <td>Saturday</td>\n",
       "      <td>01/02/2016 12:00:00 AM</td>\n",
       "      <td>01:02</td>\n",
       "      <td>TENDERLOIN</td>\n",
       "      <td>NONE</td>\n",
       "      <td>200 Block of EDDY ST</td>\n",
       "      <td>-122.411778</td>\n",
       "      <td>37.783981</td>\n",
       "      <td>(37.7839805592634, -122.411778295992)</td>\n",
       "      <td>16000325968000</td>\n",
       "    </tr>\n",
       "    <tr>\n",
       "      <th>8</th>\n",
       "      <td>160003970</td>\n",
       "      <td>WARRANTS</td>\n",
       "      <td>WARRANT ARREST</td>\n",
       "      <td>Saturday</td>\n",
       "      <td>01/02/2016 12:00:00 AM</td>\n",
       "      <td>12:21</td>\n",
       "      <td>SOUTHERN</td>\n",
       "      <td>ARREST, BOOKED</td>\n",
       "      <td>4TH ST / BERRY ST</td>\n",
       "      <td>-122.393357</td>\n",
       "      <td>37.775788</td>\n",
       "      <td>(37.7757876218293, -122.393357241451)</td>\n",
       "      <td>16000397063010</td>\n",
       "    </tr>\n",
       "    <tr>\n",
       "      <th>9</th>\n",
       "      <td>160003641</td>\n",
       "      <td>MISSING PERSON</td>\n",
       "      <td>FOUND PERSON</td>\n",
       "      <td>Friday</td>\n",
       "      <td>01/01/2016 12:00:00 AM</td>\n",
       "      <td>10:06</td>\n",
       "      <td>BAYVIEW</td>\n",
       "      <td>NONE</td>\n",
       "      <td>100 Block of CAMERON WY</td>\n",
       "      <td>-122.387182</td>\n",
       "      <td>37.720967</td>\n",
       "      <td>(37.7209669615499, -122.387181635995)</td>\n",
       "      <td>16000364175000</td>\n",
       "    </tr>\n",
       "  </tbody>\n",
       "</table>\n",
       "</div>"
      ],
      "text/plain": [
       "   IncidntNum        Category                                        Descript  \\\n",
       "0   120058272     WEAPON LAWS                       POSS OF PROHIBITED WEAPON   \n",
       "1   120058272     WEAPON LAWS  FIREARM, LOADED, IN VEHICLE, POSSESSION OR USE   \n",
       "2   141059263        WARRANTS                                  WARRANT ARREST   \n",
       "3   160013662    NON-CRIMINAL                                   LOST PROPERTY   \n",
       "4   160002740    NON-CRIMINAL                                   LOST PROPERTY   \n",
       "5   160002869         ASSAULT                                         BATTERY   \n",
       "6   160003130  OTHER OFFENSES                                PAROLE VIOLATION   \n",
       "7   160003259    NON-CRIMINAL                                     FIRE REPORT   \n",
       "8   160003970        WARRANTS                                  WARRANT ARREST   \n",
       "9   160003641  MISSING PERSON                                    FOUND PERSON   \n",
       "\n",
       "  DayOfWeek                    Date   Time  PdDistrict      Resolution  \\\n",
       "0    Friday  01/29/2016 12:00:00 AM  11:00    SOUTHERN  ARREST, BOOKED   \n",
       "1    Friday  01/29/2016 12:00:00 AM  11:00    SOUTHERN  ARREST, BOOKED   \n",
       "2    Monday  04/25/2016 12:00:00 AM  14:59     BAYVIEW  ARREST, BOOKED   \n",
       "3   Tuesday  01/05/2016 12:00:00 AM  23:50  TENDERLOIN            NONE   \n",
       "4    Friday  01/01/2016 12:00:00 AM  00:30     MISSION            NONE   \n",
       "5    Friday  01/01/2016 12:00:00 AM  21:35    NORTHERN            NONE   \n",
       "6  Saturday  01/02/2016 12:00:00 AM  00:04    SOUTHERN  ARREST, BOOKED   \n",
       "7  Saturday  01/02/2016 12:00:00 AM  01:02  TENDERLOIN            NONE   \n",
       "8  Saturday  01/02/2016 12:00:00 AM  12:21    SOUTHERN  ARREST, BOOKED   \n",
       "9    Friday  01/01/2016 12:00:00 AM  10:06     BAYVIEW            NONE   \n",
       "\n",
       "                   Address           X          Y  \\\n",
       "0   800 Block of BRYANT ST -122.403405  37.775421   \n",
       "1   800 Block of BRYANT ST -122.403405  37.775421   \n",
       "2    KEITH ST / SHAFTER AV -122.388856  37.729981   \n",
       "3   JONES ST / OFARRELL ST -122.412971  37.785788   \n",
       "4     16TH ST / MISSION ST -122.419672  37.765050   \n",
       "5    1700 Block of BUSH ST -122.426077  37.788019   \n",
       "6      MARY ST / HOWARD ST -122.405721  37.780879   \n",
       "7     200 Block of EDDY ST -122.411778  37.783981   \n",
       "8        4TH ST / BERRY ST -122.393357  37.775788   \n",
       "9  100 Block of CAMERON WY -122.387182  37.720967   \n",
       "\n",
       "                                Location            PdId  \n",
       "0   (37.775420706711, -122.403404791479)  12005827212120  \n",
       "1   (37.775420706711, -122.403404791479)  12005827212168  \n",
       "2  (37.7299809672996, -122.388856204292)  14105926363010  \n",
       "3  (37.7857883766888, -122.412970537591)  16001366271000  \n",
       "4  (37.7650501214668, -122.419671780296)  16000274071000  \n",
       "5   (37.788018555829, -122.426077177375)  16000286904134  \n",
       "6  (37.7808789360214, -122.405721454567)  16000313026150  \n",
       "7  (37.7839805592634, -122.411778295992)  16000325968000  \n",
       "8  (37.7757876218293, -122.393357241451)  16000397063010  \n",
       "9  (37.7209669615499, -122.387181635995)  16000364175000  "
      ]
     },
     "execution_count": 2,
     "metadata": {},
     "output_type": "execute_result"
    }
   ],
   "source": [
    "df = pd.read_csv('Sanfrancisco_crime.csv')\n",
    "df.head(10)"
   ]
  },
  {
   "cell_type": "code",
   "execution_count": 3,
   "metadata": {},
   "outputs": [],
   "source": [
    "# rename columns \n",
    "df.columns = ['INCIDENT_NUM', 'CATEGORY', 'DESCRIPTION', 'DAY',\n",
    "              'DATE', 'TIME', 'DISTRICT', 'RESOLUTION', 'ADDRESS', 'X', 'Y', 'LOCATION', 'PDLD']"
   ]
  },
  {
   "cell_type": "code",
   "execution_count": 4,
   "metadata": {},
   "outputs": [
    {
     "data": {
      "text/plain": [
       "(150500, 13)"
      ]
     },
     "execution_count": 4,
     "metadata": {},
     "output_type": "execute_result"
    }
   ],
   "source": [
    "# how many rows and columns the database has\n",
    "df.shape"
   ]
  },
  {
   "cell_type": "code",
   "execution_count": 5,
   "metadata": {},
   "outputs": [
    {
     "data": {
      "text/plain": [
       "33801"
      ]
     },
     "execution_count": 5,
     "metadata": {},
     "output_type": "execute_result"
    }
   ],
   "source": [
    "# checking if there is any duplicated values on our primary key\n",
    "# out of 150500 records, 33801 are duplicated\n",
    "df.INCIDENT_NUM.duplicated().sum()"
   ]
  },
  {
   "cell_type": "code",
   "execution_count": 6,
   "metadata": {},
   "outputs": [
    {
     "data": {
      "text/plain": [
       "INCIDENT_NUM    0\n",
       "CATEGORY        0\n",
       "DESCRIPTION     0\n",
       "DAY             0\n",
       "DATE            0\n",
       "TIME            0\n",
       "DISTRICT        1\n",
       "RESOLUTION      0\n",
       "ADDRESS         0\n",
       "X               0\n",
       "Y               0\n",
       "LOCATION        0\n",
       "PDLD            0\n",
       "dtype: int64"
      ]
     },
     "execution_count": 6,
     "metadata": {},
     "output_type": "execute_result"
    }
   ],
   "source": [
    "# check if there are any missing values\n",
    "df.isnull().sum()"
   ]
  },
  {
   "cell_type": "code",
   "execution_count": 7,
   "metadata": {},
   "outputs": [
    {
     "name": "stdout",
     "output_type": "stream",
     "text": [
      "<class 'pandas.core.frame.DataFrame'>\n",
      "RangeIndex: 150500 entries, 0 to 150499\n",
      "Data columns (total 13 columns):\n",
      " #   Column        Non-Null Count   Dtype  \n",
      "---  ------        --------------   -----  \n",
      " 0   INCIDENT_NUM  150500 non-null  int64  \n",
      " 1   CATEGORY      150500 non-null  object \n",
      " 2   DESCRIPTION   150500 non-null  object \n",
      " 3   DAY           150500 non-null  object \n",
      " 4   DATE          150500 non-null  object \n",
      " 5   TIME          150500 non-null  object \n",
      " 6   DISTRICT      150499 non-null  object \n",
      " 7   RESOLUTION    150500 non-null  object \n",
      " 8   ADDRESS       150500 non-null  object \n",
      " 9   X             150500 non-null  float64\n",
      " 10  Y             150500 non-null  float64\n",
      " 11  LOCATION      150500 non-null  object \n",
      " 12  PDLD          150500 non-null  int64  \n",
      "dtypes: float64(2), int64(2), object(9)\n",
      "memory usage: 14.9+ MB\n"
     ]
    }
   ],
   "source": [
    "# i want to see the data type of my columns\n",
    "df.info()"
   ]
  },
  {
   "cell_type": "code",
   "execution_count": 8,
   "metadata": {},
   "outputs": [],
   "source": [
    "# I am changing the DATE and TIME data type from OBJECT to DATETIME by using the pandas function to_datetime\n",
    "df.DATE = pd.to_datetime(df.DATE)\n",
    "df.TIME = pd.to_datetime(df.TIME)"
   ]
  },
  {
   "cell_type": "code",
   "execution_count": null,
   "metadata": {},
   "outputs": [],
   "source": []
  },
  {
   "cell_type": "code",
   "execution_count": 9,
   "metadata": {},
   "outputs": [
    {
     "data": {
      "text/plain": [
       "LARCENY/THEFT                  40409\n",
       "OTHER OFFENSES                 19599\n",
       "NON-CRIMINAL                   17866\n",
       "ASSAULT                        13577\n",
       "VANDALISM                       8589\n",
       "VEHICLE THEFT                   6419\n",
       "WARRANTS                        5914\n",
       "BURGLARY                        5802\n",
       "SUSPICIOUS OCC                  5782\n",
       "MISSING PERSON                  4338\n",
       "DRUG/NARCOTIC                   4243\n",
       "ROBBERY                         3299\n",
       "FRAUD                           2635\n",
       "SECONDARY CODES                 1841\n",
       "TRESPASS                        1812\n",
       "WEAPON LAWS                     1658\n",
       "SEX OFFENSES, FORCIBLE           940\n",
       "STOLEN PROPERTY                  882\n",
       "RECOVERED VEHICLE                736\n",
       "DISORDERLY CONDUCT               658\n",
       "PROSTITUTION                     641\n",
       "FORGERY/COUNTERFEITING           619\n",
       "DRUNKENNESS                      465\n",
       "DRIVING UNDER THE INFLUENCE      378\n",
       "ARSON                            286\n",
       "KIDNAPPING                       257\n",
       "EMBEZZLEMENT                     168\n",
       "LIQUOR LAWS                      156\n",
       "RUNAWAY                          140\n",
       "SUICIDE                           69\n",
       "BRIBERY                           66\n",
       "EXTORTION                         60\n",
       "FAMILY OFFENSES                   53\n",
       "LOITERING                         42\n",
       "SEX OFFENSES, NON FORCIBLE        40\n",
       "BAD CHECKS                        34\n",
       "GAMBLING                          20\n",
       "PORNOGRAPHY/OBSCENE MAT            4\n",
       "TREA                               3\n",
       "Name: CATEGORY, dtype: int64"
      ]
     },
     "execution_count": 9,
     "metadata": {},
     "output_type": "execute_result"
    }
   ],
   "source": [
    "df.CATEGORY.value_counts()"
   ]
  },
  {
   "cell_type": "code",
   "execution_count": 10,
   "metadata": {},
   "outputs": [
    {
     "name": "stdout",
     "output_type": "stream",
     "text": [
      "Monday\n"
     ]
    },
    {
     "data": {
      "image/png": "[encoded data removed]",
      "text/plain": [
       "<Figure size 432x288 with 1 Axes>"
      ]
     },
     "metadata": {
      "needs_background": "light"
     },
     "output_type": "display_data"
    },
    {
     "name": "stdout",
     "output_type": "stream",
     "text": [
      "Tuesday\n"
     ]
    },
    {
     "data": {
      "image/png": "[encoded data removed]",
      "text/plain": [
       "<Figure size 432x288 with 1 Axes>"
      ]
     },
     "metadata": {
      "needs_background": "light"
     },
     "output_type": "display_data"
    },
    {
     "name": "stdout",
     "output_type": "stream",
     "text": [
      "Wednesday\n"
     ]
    },
    {
     "data": {
      "image/png": "[encoded data removed]",
      "text/plain": [
       "<Figure size 432x288 with 1 Axes>"
      ]
     },
     "metadata": {
      "needs_background": "light"
     },
     "output_type": "display_data"
    },
    {
     "name": "stdout",
     "output_type": "stream",
     "text": [
      "Thursday\n"
     ]
    },
    {
     "data": {
      "image/png": "[encoded data removed]",
      "text/plain": [
       "<Figure size 432x288 with 1 Axes>"
      ]
     },
     "metadata": {
      "needs_background": "light"
     },
     "output_type": "display_data"
    },
    {
     "name": "stdout",
     "output_type": "stream",
     "text": [
      "Friday\n"
     ]
    },
    {
     "data": {
      "image/png": "[encoded data removed]",
      "text/plain": [
       "<Figure size 432x288 with 1 Axes>"
      ]
     },
     "metadata": {
      "needs_background": "light"
     },
     "output_type": "display_data"
    },
    {
     "name": "stdout",
     "output_type": "stream",
     "text": [
      "Saturday\n"
     ]
    },
    {
     "data": {
      "image/png": "[encoded data removed]",
      "text/plain": [
       "<Figure size 432x288 with 1 Axes>"
      ]
     },
     "metadata": {
      "needs_background": "light"
     },
     "output_type": "display_data"
    },
    {
     "name": "stdout",
     "output_type": "stream",
     "text": [
      "Sunday\n"
     ]
    },
    {
     "data": {
      "image/png": "[encoded data removed]",
      "text/plain": [
       "<Figure size 432x288 with 1 Axes>"
      ]
     },
     "metadata": {
      "needs_background": "light"
     },
     "output_type": "display_data"
    }
   ],
   "source": [
    "# here we can see by day of the week the ten categories of crime most committed in each day of the week\n",
    "# mondays were larceny and theft\n",
    "\n",
    "week = ['Monday', 'Tuesday', 'Wednesday', 'Thursday', 'Friday', 'Saturday', 'Sunday']\n",
    "\n",
    "for i in week:\n",
    "    print(i)\n",
    "    df[df.DAY == i].CATEGORY.value_counts().head(10).plot(kind = 'bar', color='brown')\n",
    "    plt.show()"
   ]
  },
  {
   "cell_type": "code",
   "execution_count": null,
   "metadata": {},
   "outputs": [],
   "source": []
  },
  {
   "cell_type": "code",
   "execution_count": 11,
   "metadata": {},
   "outputs": [
    {
     "data": {
      "text/plain": [
       "<matplotlib.axes._subplots.AxesSubplot at 0x1a1d8814d0>"
      ]
     },
     "execution_count": 11,
     "metadata": {},
     "output_type": "execute_result"
    },
    {
     "data": {
      "image/png": "[encoded data removed]",
      "text/plain": [
       "<Figure size 432x288 with 1 Axes>"
      ]
     },
     "metadata": {
      "needs_background": "light"
     },
     "output_type": "display_data"
    }
   ],
   "source": [
    "# fridays were the days where more crimes were commited in San Francisco\n",
    "df.DATE.dt.weekday.value_counts().sort_index().plot(kind = 'barh', color = 'green')"
   ]
  },
  {
   "cell_type": "code",
   "execution_count": null,
   "metadata": {},
   "outputs": [],
   "source": []
  },
  {
   "cell_type": "code",
   "execution_count": 12,
   "metadata": {},
   "outputs": [
    {
     "data": {
      "text/plain": [
       "0     6941\n",
       "1     4359\n",
       "2     3494\n",
       "3     2553\n",
       "4     1885\n",
       "5     1744\n",
       "6     2518\n",
       "7     3894\n",
       "8     5575\n",
       "9     5865\n",
       "10    6483\n",
       "11    6786\n",
       "12    9021\n",
       "13    7268\n",
       "14    7621\n",
       "15    8329\n",
       "16    8656\n",
       "17    9559\n",
       "18    9718\n",
       "19    8981\n",
       "20    8098\n",
       "21    7480\n",
       "22    7099\n",
       "23    6573\n",
       "Name: TIME, dtype: int64"
      ]
     },
     "execution_count": 12,
     "metadata": {},
     "output_type": "execute_result"
    }
   ],
   "source": [
    "# at what time more crimes were commited in San Francisco\n",
    "# at 6 pm more crimes were committed\n",
    "\n",
    "df.TIME.dt.hour.value_counts().sort_index()"
   ]
  },
  {
   "cell_type": "code",
   "execution_count": 13,
   "metadata": {},
   "outputs": [
    {
     "data": {
      "text/plain": [
       "<matplotlib.axes._subplots.AxesSubplot at 0x1a1da05a10>"
      ]
     },
     "execution_count": 13,
     "metadata": {},
     "output_type": "execute_result"
    },
    {
     "data": {
      "image/png": "[encoded data removed]",
      "text/plain": [
       "<Figure size 432x288 with 1 Axes>"
      ]
     },
     "metadata": {
      "needs_background": "light"
     },
     "output_type": "display_data"
    }
   ],
   "source": [
    "# let's see what the most dangerous district is\n",
    "df.DISTRICT.value_counts().plot(kind = 'bar', color = 'red')"
   ]
  },
  {
   "cell_type": "code",
   "execution_count": 14,
   "metadata": {},
   "outputs": [
    {
     "data": {
      "text/plain": [
       "RESOLUTION\n",
       "ARREST, BOOKED                             39416\n",
       "ARREST, CITED                                144\n",
       "CLEARED-CONTACT JUVENILE FOR MORE INFO        58\n",
       "COMPLAINANT REFUSES TO PROSECUTE               2\n",
       "EXCEPTIONAL CLEARANCE                        371\n",
       "JUVENILE BOOKED                             1056\n",
       "JUVENILE CITED                                 3\n",
       "JUVENILE DIVERTED                              2\n",
       "LOCATED                                       20\n",
       "NONE                                      107780\n",
       "NOT PROSECUTED                                22\n",
       "PROSECUTED BY OUTSIDE AGENCY                   1\n",
       "PSYCHOPATHIC CASE                             17\n",
       "UNFOUNDED                                   1608\n",
       "dtype: int64"
      ]
     },
     "execution_count": 14,
     "metadata": {},
     "output_type": "execute_result"
    }
   ],
   "source": [
    "# the different types of records we find in the RESOLUTION column\n",
    "df.groupby('RESOLUTION').size()"
   ]
  },
  {
   "cell_type": "code",
   "execution_count": null,
   "metadata": {},
   "outputs": [],
   "source": []
  },
  {
   "cell_type": "code",
   "execution_count": null,
   "metadata": {},
   "outputs": [],
   "source": []
  },
  {
   "cell_type": "code",
   "execution_count": 15,
   "metadata": {},
   "outputs": [
    {
     "data": {
      "text/plain": [
       "<matplotlib.axes._subplots.AxesSubplot at 0x1a1d7543d0>"
      ]
     },
     "execution_count": 15,
     "metadata": {},
     "output_type": "execute_result"
    },
    {
     "data": {
      "image/png": "[encoded data removed]",
      "text/plain": [
       "<Figure size 432x288 with 1 Axes>"
      ]
     },
     "metadata": {
      "needs_background": "light"
     },
     "output_type": "display_data"
    }
   ],
   "source": [
    "# in 2016 were the first couple month more dangerous than the last month? \n",
    "#or the crime rate increased throughout the year?\n",
    "# here we can see how in the second half of the year the crime rate rapidly increased\n",
    "df.DATE.dt.month.value_counts().sort_index().plot()"
   ]
  },
  {
   "cell_type": "code",
   "execution_count": null,
   "metadata": {},
   "outputs": [],
   "source": []
  },
  {
   "cell_type": "code",
   "execution_count": null,
   "metadata": {},
   "outputs": [],
   "source": []
  },
  {
   "cell_type": "code",
   "execution_count": 17,
   "metadata": {},
   "outputs": [
    {
     "data": {
      "text/plain": [
       "<matplotlib.axes._subplots.AxesSubplot at 0x1a1c3e4a10>"
      ]
     },
     "execution_count": 17,
     "metadata": {},
     "output_type": "execute_result"
    },
    {
     "data": {
      "image/png": "[encoded data removed]",
      "text/plain": [
       "<Figure size 432x288 with 1 Axes>"
      ]
     },
     "metadata": {
      "needs_background": "light"
     },
     "output_type": "display_data"
    }
   ],
   "source": [
    "# LARCENY / THEFT is the most frequent category so let's see what day most LARCENY/THEFT were commited\n",
    "# fridays more LARCENY/THEFT crimes were committed than any other day on the week\n",
    "df[df.CATEGORY == 'LARCENY/THEFT'].DATE.dt.weekday.value_counts().sort_index().plot(kind = 'bar')"
   ]
  },
  {
   "cell_type": "code",
   "execution_count": null,
   "metadata": {},
   "outputs": [],
   "source": []
  },
  {
   "cell_type": "code",
   "execution_count": 20,
   "metadata": {},
   "outputs": [
    {
     "data": {
      "text/plain": [
       "800 Block of BRYANT ST     3561\n",
       "800 Block of MARKET ST     1405\n",
       "900 Block of MARKET ST      547\n",
       "0 Block of 6TH ST           347\n",
       "800 Block of MISSION ST     345\n",
       "Name: ADDRESS, dtype: int64"
      ]
     },
     "execution_count": 20,
     "metadata": {},
     "output_type": "execute_result"
    }
   ],
   "source": [
    "# let's look for the most dangerous address\n",
    "# we for a fact know that the southern is the most dangerous district\n",
    "# now we know that the most dangerous address is 800 Block of BRYANT ST \n",
    "\n",
    "df[df.DISTRICT == 'SOUTHERN'].ADDRESS.value_counts().head()"
   ]
  },
  {
   "cell_type": "code",
   "execution_count": 21,
   "metadata": {},
   "outputs": [
    {
     "data": {
      "text/plain": [
       "0"
      ]
     },
     "execution_count": 21,
     "metadata": {},
     "output_type": "execute_result"
    }
   ],
   "source": [
    "# the column PDLD is our primary key with 0 duplicated values\n",
    "df.PDLD.duplicated().sum()"
   ]
  },
  {
   "cell_type": "code",
   "execution_count": null,
   "metadata": {},
   "outputs": [],
   "source": []
  },
  {
   "cell_type": "code",
   "execution_count": null,
   "metadata": {},
   "outputs": [],
   "source": [
    "# summary of our analysis:\n",
    "# now with the analysis that we've done to this database we now know the following information\n",
    "# we can see by day of the week the ten categories of crime most committed in each day of the week - Mondays were Larceny and Theft\n",
    "# fridays were the days where more crimes were commited in San Francisco\n",
    "# at 6 pm more crimes were committed in San Francisco in 2016\n",
    "# the most dangerous district is the Southern disctrict\n",
    "# we can see how in the second half of the year the crime rate rapidly increased - after June the crime rate went up\n",
    "# fridays more LARCENY/THEFT crimes were committed than any other day on the week\n",
    "# now we know that the most dangerous address is 800 Block of BRYANT ST\n",
    "\n",
    "# all this information gives us a much better understanding of the city crime rate. When and where is dangerous \n",
    "# and at what type crimes are most likely to happen\n",
    "\n",
    "# THIS IS A PUBLIC DATABASE THAT I FOUND IN KAGGLE. IT HAS BEEN USED JUST FOR LEARNING PURPOSES.\n",
    "\n",
    "\n"
   ]
  }
 ],
 "metadata": {
  "kernelspec": {
   "display_name": "Python 3",
   "language": "python",
   "name": "python3"
  },
  "language_info": {
   "codemirror_mode": {
    "name": "ipython",
    "version": 3
   },
   "file_extension": ".py",
   "mimetype": "text/x-python",
   "name": "python",
   "nbconvert_exporter": "python",
   "pygments_lexer": "ipython3",
   "version": "3.7.6"
  }
 },
 "nbformat": 4,
 "nbformat_minor": 4
}
